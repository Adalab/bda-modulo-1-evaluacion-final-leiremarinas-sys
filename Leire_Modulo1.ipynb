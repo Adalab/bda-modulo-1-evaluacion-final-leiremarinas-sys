{
 "cells": [
  {
   "cell_type": "markdown",
   "id": "e0b9bff8",
   "metadata": {},
   "source": [
    "## ESTRUCTURAS\n",
    "\n",
    "1.  inventario (lista de diccionarios): Un atributo para almacenar los productos en el inventario. Cada\n",
    "producto debe ser representado como un diccionario con las siguientes claves: 'nombre',\n",
    "'precio', y 'cantidad'. Al principio deberá ser una lista vacía. \n",
    "\n",
    "2. clientes (diccionario): Una estructura para llevar un registro de los clientes de la tienda.\n",
    "\n",
    "Aqui no se especifíca que el diccionario este vacío al empezar con lo que lo crearé con el listado que nos dan\n",
    "\n",
    "\n",
    "3. ventas_totales (float): Una variable para llevar un registro de las ventas totales de la tienda.\n",
    "Inicialízala con valor 0."
   ]
  },
  {
   "cell_type": "code",
   "execution_count": 497,
   "id": "cce37fe3",
   "metadata": {},
   "outputs": [
    {
     "name": "stdout",
     "output_type": "stream",
     "text": [
      "<class 'list'>\n",
      "<class 'dict'>\n",
      "{'Ana García': {'email': 'ana.garcia@email.com', 'compras': []}, 'Luis Fernández': {'email': 'luis.fernandez@email.com', 'compras': []}, 'María López': {'email': 'maria.lopez@email.com', 'compras': []}, 'Carlos Ruiz': {'email': 'carlos.ruiz@email.com', 'compras': []}, 'Elena Martín': {'email': 'elena.martin@email.com', 'compras': []}, 'Javier Torres': {'email': 'javier.torres@email.com', 'compras': []}, 'Lucía Sánchez': {'email': 'lucia.sanchez@email.com', 'compras': []}, 'Sergio Díaz': {'email': 'sergio.diaz@email.com', 'compras': []}, 'Patricia Ramos': {'email': 'patricia.ramos@email.com', 'compras': []}, 'Diego Navarro': {'email': 'diego.navarro@email.com', 'compras': []}}\n",
      "<class 'float'>\n",
      "0.0\n"
     ]
    }
   ],
   "source": [
    "inventario=[]\n",
    "print(type(inventario)) #1. quiero confirmar que he creado una lista vacía\n",
    "\n",
    "clientes= { 'Ana García': {'email': 'ana.garcia@email.com', 'compras': []}, \n",
    "    'Luis Fernández': {'email': 'luis.fernandez@email.com', 'compras': []}, \n",
    "    'María López': {'email': 'maria.lopez@email.com', 'compras': []}, \n",
    "    'Carlos Ruiz': {'email': 'carlos.ruiz@email.com', 'compras': []}, \n",
    "    'Elena Martín': {'email': 'elena.martin@email.com', 'compras': []}, \n",
    "    'Javier Torres': {'email': 'javier.torres@email.com', 'compras': []}, \n",
    "    'Lucía Sánchez': {'email': 'lucia.sanchez@email.com', 'compras': []}, \n",
    "    'Sergio Díaz': {'email': 'sergio.diaz@email.com', 'compras': []},\n",
    "    'Patricia Ramos': {'email': 'patricia.ramos@email.com', 'compras':[]},\n",
    "    'Diego Navarro': {'email': 'diego.navarro@email.com', 'compras': []} }\n",
    "\n",
    "print(type(clientes)) #2 quiero confirmar que he creado un diccionario\n",
    "print(clientes) # 2 quiero ver el contenido del diccionario\n",
    "\n",
    "ventas_totales=0.0\n",
    "print(type(ventas_totales)) #3 quiero confirmar que he creado una variable float\n",
    "print(ventas_totales) #3 quiero ver el contenido de la variable"
   ]
  },
  {
   "cell_type": "markdown",
   "id": "65a7f514",
   "metadata": {},
   "source": [
    "## FUNCIONES"
   ]
  },
  {
   "cell_type": "markdown",
   "id": "33311462",
   "metadata": {},
   "source": [
    "1. agregar_producto(nombre, precio, cantidad) : Agrega un producto al inventario o\n",
    "actualiza su cantidad si ya existe. Debe recibir el nombre, precio y cantidad del producto como\n",
    "parámetros.\n",
    "Itera a través del inventario y compara los nombres de los productos con el nombre\n",
    "proporcionado.\n",
    "Si el producto ya existe, actualiza la cantidad.\n",
    "Si no existe, agrega un nuevo producto al inventario\n",
    "\n",
    "\n",
    "Pasos:\n",
    "\n",
    "Crear función agregra producto con tres parámetros: nombre, precio, cantidad\n",
    "si el producto existe aumentar cantidad. El producto lo voya identificar por el nombre\n",
    "si el producto noexiste se agrega a la lista\n",
    "Hacer pruebas de que está funcionando bien"
   ]
  },
  {
   "cell_type": "code",
   "execution_count": 498,
   "id": "b58d6067",
   "metadata": {},
   "outputs": [],
   "source": [
    "def agregar_producto(nombre, precio, cantidad):\n",
    "    nombre_normalizado=nombre.strip().lower() # normalizo para que no de problemas si hay espacios o mayúsculas\n",
    "    for producto in inventario:\n",
    "        if producto['nombre'] == nombre_normalizado:\n",
    "            producto['cantidad'] += cantidad\n",
    "            return\n",
    "    nuevo_producto = {'nombre': nombre, 'precio': precio, 'cantidad': cantidad}\n",
    "    inventario.append(nuevo_producto)\n",
    "    return"
   ]
  },
  {
   "cell_type": "code",
   "execution_count": 499,
   "id": "aed8d1bc",
   "metadata": {},
   "outputs": [
    {
     "name": "stdout",
     "output_type": "stream",
     "text": [
      "[{'nombre': 'manzana', 'precio': 20, 'cantidad': 100}, {'nombre': 'banana', 'precio': 30, 'cantidad': 150}, {'nombre': 'naranja', 'precio': 50, 'cantidad': 200}]\n"
     ]
    }
   ],
   "source": [
    "agregar_producto('manzana', 20, 100)\n",
    "agregar_producto('banana', 30, 150)\n",
    "agregar_producto('naranja', 50, 200)\n",
    "print(inventario) # compruebo función agregar_producto con productos nuevos"
   ]
  },
  {
   "cell_type": "code",
   "execution_count": 500,
   "id": "f31c0922",
   "metadata": {},
   "outputs": [
    {
     "name": "stdout",
     "output_type": "stream",
     "text": [
      "[{'nombre': 'manzana', 'precio': 20, 'cantidad': 200}, {'nombre': 'banana', 'precio': 30, 'cantidad': 150}, {'nombre': 'naranja', 'precio': 50, 'cantidad': 200}]\n"
     ]
    }
   ],
   "source": [
    "agregar_producto('manzana', 20, 100)\n",
    "print(inventario) # compruebo función agregar_producto con producto existente, tendriamos que tener 200 manzanas"
   ]
  },
  {
   "cell_type": "markdown",
   "id": "46cd87d7",
   "metadata": {},
   "source": [
    "2. ver_inventario(): Muestra el inventario de productos con sus detalles.\n",
    "Utiliza un bucle for para recorrer el inventario.\n",
    "Imprime los detalles (nombre, precio, cantidad) de cada producto\n",
    "\n",
    "Esta funciono podría ser directamente print(inventario) entiendo que creamos la función para que la legibilidad sea mejor y que podamos utilizar a posteriori\n",
    "\n",
    "Crear funcion ver_inventario sin parametros\n",
    "crear bucle for para recorrer lalista de inventario\n",
    "¿Que pasa si el producto no esta en la lista? que me devuelva mensaje el: el inventarío está vacío\n",
    "compruebo que funciona\n",
    "\n",
    "voy a meter la comprobación, pero en realidad no le estoy pidiendo que comprueba si algo está en la lista aquí no hay parametro solo quiero que me imprima el inventario"
   ]
  },
  {
   "cell_type": "code",
   "execution_count": 501,
   "id": "dd2ff55d",
   "metadata": {},
   "outputs": [],
   "source": [
    "def ver_inventario():\n",
    "    for producto in inventario:\n",
    "        if not inventario:\n",
    "            print(\"El inventario está vacío.\")\n",
    "            return # sale de la función si está vacío\n",
    "        nombre = producto['nombre']\n",
    "        precio= producto['precio']\n",
    "        cantidad= producto['cantidad']\n",
    "        ## Imprimir los detalles del producto dentro del bucle\n",
    "        print(f\"Producto: {nombre}, Precio: {precio}, Cantidad: {cantidad}\")\n",
    "        \n"
   ]
  },
  {
   "cell_type": "code",
   "execution_count": 502,
   "id": "a9383add",
   "metadata": {},
   "outputs": [
    {
     "name": "stdout",
     "output_type": "stream",
     "text": [
      "Producto: manzana, Precio: 20, Cantidad: 200\n",
      "Producto: banana, Precio: 30, Cantidad: 150\n",
      "Producto: naranja, Precio: 50, Cantidad: 200\n",
      "[{'nombre': 'manzana', 'precio': 20, 'cantidad': 200}, {'nombre': 'banana', 'precio': 30, 'cantidad': 150}, {'nombre': 'naranja', 'precio': 50, 'cantidad': 200}]\n"
     ]
    }
   ],
   "source": [
    "ver_inventario() # compruebo función ver_inventario\n",
    "print(inventario)"
   ]
  },
  {
   "cell_type": "markdown",
   "id": "67ea22cd",
   "metadata": {},
   "source": [
    "3.buscar_producto(nombre): Busca un producto en el inventario por nombre y muestra sus\n",
    "detalles si se encuentra. Debe recibir el nombre del producto como parámetro.\n",
    "Utiliza un bucle for para recorrer el inventario.\n",
    "Compara los nombres de los productos con el nombre proporcionado.\n",
    "Si se encuentra el producto, imprime sus detalles\n",
    "\n",
    "Pasos\n",
    "Función con un parámtro, nombre\n",
    "abro bucle for\n",
    "si encuentra el producto imprimo los detalles\n",
    "sino encuentra el producot devolver mensaje producto no en inventario"
   ]
  },
  {
   "cell_type": "code",
   "execution_count": 503,
   "id": "166e8746",
   "metadata": {},
   "outputs": [],
   "source": [
    "def buscar_producto(nombre):\n",
    "\n",
    "    nombre_normalizado=nombre.strip().lower() # normalizo para que no de problemas si hay espacios o mayúsculas\n",
    "    if not inventario: # Ejecuto primero el caso de que el inventario está vacío para que ni siquiera entre en el bucle\n",
    "        print(\"El inventario está vacío.\")\n",
    "        return # sale de la función si está vacío\n",
    "    \n",
    "    for producto in inventario:\n",
    "        if producto['nombre'] == nombre_normalizado:\n",
    "            precio = producto['precio']\n",
    "            cantidad = producto['cantidad']\n",
    "            print(f\"Producto encontrado: {nombre}, Precio: {precio}, Cantidad: {cantidad}\")\n",
    "            return # sale de la función si lo encuentra\n",
    "   \n",
    "    print(f\"Producto no encontrado:{nombre}\")  #Imprime si no ha enocntrado el producto"
   ]
  },
  {
   "cell_type": "code",
   "execution_count": 504,
   "id": "8555b107",
   "metadata": {},
   "outputs": [
    {
     "name": "stdout",
     "output_type": "stream",
     "text": [
      "Producto encontrado: BanaNa, Precio: 30, Cantidad: 150\n"
     ]
    }
   ],
   "source": [
    "buscar_producto('BanaNa') # compruebo función buscar_producto con producto existente\n"
   ]
  },
  {
   "cell_type": "code",
   "execution_count": 505,
   "id": "38b70d78",
   "metadata": {},
   "outputs": [
    {
     "name": "stdout",
     "output_type": "stream",
     "text": [
      "Producto no encontrado:pera\n"
     ]
    }
   ],
   "source": [
    "buscar_producto('pera') # compruebo función buscar_producto con producto no existente"
   ]
  },
  {
   "cell_type": "markdown",
   "id": "9870198a",
   "metadata": {},
   "source": [
    "4. actualizar_stock(nombre, cantidad): Actualiza el stock de un producto en el inventario.\n",
    "Debe recibir el nombre del producto y la cantidad a agregar o quitar como parámetros.\n",
    "\n",
    "Utiliza un bucle for para recorrer el inventario\n",
    "Busca el producto por nombre.\n",
    "Actualiza la cantidad según la entrada del usuario.\n",
    "Si el producto no esta en el inventario muestra un mensaje indicándolo."
   ]
  },
  {
   "cell_type": "code",
   "execution_count": 506,
   "id": "6913a328",
   "metadata": {},
   "outputs": [],
   "source": [
    "def actualizar_stock(nombre,cantidad):\n",
    "    nombre_normalizado=nombre.strip().lower() # normalizo para que no de problemas si hay espacios o mayúsculas\n",
    "    for producto in inventario:\n",
    "        if producto['nombre'] == nombre_normalizado:\n",
    "            producto['cantidad'] += cantidad\n",
    "            print(f\"Stock actualizado para {nombre}. Nueva cantidad: {producto['cantidad']}\")\n",
    "            return # sale de la función si lo encuentra\n",
    "    else: \n",
    "        print(\"El producto no está en el inventario.\")\n",
    "        return # sale de la función si está vacío"
   ]
  },
  {
   "cell_type": "code",
   "execution_count": 507,
   "id": "5a4b09c8",
   "metadata": {},
   "outputs": [
    {
     "name": "stdout",
     "output_type": "stream",
     "text": [
      "Stock actualizado para banana. Nueva cantidad: 200\n"
     ]
    }
   ],
   "source": [
    "actualizar_stock('banana', 50) # compruebo función actualizar_stock con producto existente, antes tenáimos 200 ahora tendremos 250"
   ]
  },
  {
   "cell_type": "markdown",
   "id": "c7e5555b",
   "metadata": {},
   "source": [
    "5. eliminar_producto(nombre): Elimina un producto del inventario por nombre. Debe recibir el nombre del producto como parámetro.\n",
    "Utiliza un bucle for para recorrer el inventario.\n",
    "Busca el producto por nombre.\n",
    "Elimina el producto del inventario si existe.\n",
    "Si el producto no esta en el inventario muestra un mensaje indicándolo"
   ]
  },
  {
   "cell_type": "code",
   "execution_count": 508,
   "id": "ac867cce",
   "metadata": {},
   "outputs": [],
   "source": [
    "def eliminar_producto(nombre):\n",
    "    for producto in (inventario):\n",
    "        if producto['nombre'] == nombre:\n",
    "            inventario.remove(producto)\n",
    "            print(f\"Producto {nombre} eliminado del inventario.\")\n",
    "            return # sale de la función si lo encuentra\n",
    "    else: \n",
    "        print(\"El producto no está en el inventario.\")\n",
    "        return # sale de la función si está vacío"
   ]
  },
  {
   "cell_type": "code",
   "execution_count": 509,
   "id": "00f0bea7",
   "metadata": {},
   "outputs": [
    {
     "name": "stdout",
     "output_type": "stream",
     "text": [
      "Producto: manzana, Precio: 20, Cantidad: 200\n",
      "Producto: banana, Precio: 30, Cantidad: 200\n",
      "Producto: naranja, Precio: 50, Cantidad: 200\n",
      "Producto banana eliminado del inventario.\n",
      "El producto no está en el inventario.\n",
      "Producto: manzana, Precio: 20, Cantidad: 200\n",
      "Producto: naranja, Precio: 50, Cantidad: 200\n"
     ]
    }
   ],
   "source": [
    "ver_inventario()\n",
    "eliminar_producto('banana') # compruebo función eliminar_producto con producto existente\n",
    "eliminar_producto('pera') # compruebo función eliminar_producto con producto no existente\n",
    "ver_inventario()"
   ]
  },
  {
   "cell_type": "markdown",
   "id": "c0fa0b80",
   "metadata": {},
   "source": [
    "6. calcular_valor_inventario(): Calcula y muestra el valor total del inventario.\n",
    "Utiliza un bucle for para calcular el valor total del inventario.\n",
    "Itera a través del inventario y suma el valor de cada producto (precio x cantidad). Es decir calcula el valor total del inventario\n",
    "\n"
   ]
  },
  {
   "cell_type": "code",
   "execution_count": 510,
   "id": "c372287a",
   "metadata": {},
   "outputs": [],
   "source": [
    "def valor_inventario():\n",
    "    for producto in inventario:\n",
    "        valor= producto['precio'] * producto['cantidad']\n",
    "        print(f\"El valor del inventario es: {valor}\")\n",
    "    "
   ]
  },
  {
   "cell_type": "code",
   "execution_count": 511,
   "id": "100286d0",
   "metadata": {},
   "outputs": [
    {
     "name": "stdout",
     "output_type": "stream",
     "text": [
      "Producto: manzana, Precio: 20, Cantidad: 200\n",
      "Producto: naranja, Precio: 50, Cantidad: 200\n",
      "El valor del inventario es: 4000\n",
      "El valor del inventario es: 10000\n"
     ]
    }
   ],
   "source": [
    "ver_inventario() # imprimo para calcular a mano si el valor que me de la función valor_inventario es correcto\n",
    "valor_inventario()"
   ]
  },
  {
   "cell_type": "markdown",
   "id": "52ebd31d",
   "metadata": {},
   "source": [
    "Me está imprimiendo el valor por producto y no el valor total, voy a añadir un contador"
   ]
  },
  {
   "cell_type": "code",
   "execution_count": 512,
   "id": "36882799",
   "metadata": {},
   "outputs": [],
   "source": [
    "def valor_inventario():\n",
    "    valor_total = 0\n",
    "    for producto in inventario:\n",
    "        valor_total += producto['precio'] * producto['cantidad']\n",
    "    print(f\"El valor total del inventario es: {valor_total}\")\n",
    "    return valor_total"
   ]
  },
  {
   "cell_type": "code",
   "execution_count": 513,
   "id": "213788c0",
   "metadata": {},
   "outputs": [
    {
     "name": "stdout",
     "output_type": "stream",
     "text": [
      "El valor total del inventario es: 14000\n"
     ]
    },
    {
     "data": {
      "text/plain": [
       "14000"
      ]
     },
     "execution_count": 513,
     "metadata": {},
     "output_type": "execute_result"
    }
   ],
   "source": [
    "valor_inventario()"
   ]
  },
  {
   "cell_type": "markdown",
   "id": "f4557002",
   "metadata": {},
   "source": [
    "7.  realizar_compra(): Permite a un cliente realizar una compra seleccionando productos del\n",
    "inventario. Debe interactuar con el cliente para seleccionar productos y calcular el costo total de la\n",
    "compra.\n",
    "Utiliza un bucle while para permitir al cliente realizar múltiples compras.\n",
    "Muestra el inventario y solicita al cliente ingresar el nombre del producto que desea comprar.\n",
    "Registra los productos seleccionados en un carrito y actualiza el inventario.\n",
    "Calcula el costo total de la compra.\n",
    "\n",
    "\n",
    "Pasos \n",
    "\n",
    "voy a crear una lista vacía dónde ir agregando  al carrito y una variable que haga de contador para el coste total\n",
    "\n",
    "bucle principal, mientras el cliente decida seguir comprando estará en esta lista\n",
    "hay que ir mostrando le inventario y pidiendo input de cliente de los productos y cantidad que quiere\n",
    "todo lo que vaya seleccionando se tiene que agregar al carrito y sumar al importe total\n",
    "darle la opción de salir de la compra\n",
    "procesar selección, has comprado tanto y el coste es tanto\n",
    "\n",
    "\n"
   ]
  },
  {
   "cell_type": "code",
   "execution_count": 514,
   "id": "5a4c4b20",
   "metadata": {},
   "outputs": [
    {
     "name": "stdout",
     "output_type": "stream",
     "text": [
      "Producto: manzana, Precio: 20, Cantidad: 300\n",
      "Producto: naranja, Precio: 50, Cantidad: 400\n",
      "Producto: banana, Precio: 30, Cantidad: 150\n"
     ]
    }
   ],
   "source": [
    " # he vaciado el inventario, lo lleno ,esto es independiente de la función realizar_compra\n",
    "agregar_producto('manzana', 20, 100)\n",
    "agregar_producto('banana', 30, 150)\n",
    "agregar_producto('naranja', 50, 200)\n",
    "ver_inventario()\n"
   ]
  },
  {
   "cell_type": "code",
   "execution_count": 515,
   "id": "0c360401",
   "metadata": {},
   "outputs": [],
   "source": [
    "resultado_compra=() # Quiero crear una variable global para usar los varlores que salen de la función realizar compra\n",
    "def realizar_compra():\n",
    "\n",
    "    global resultado_compra\n",
    "    carrito= [] # Aqui tengo la lista carrito qeu empieza vacía\n",
    "    coste_total=0.0\n",
    "\n",
    "    while True:\n",
    "        ver_inventario()\n",
    "        seleccion = input(\"Seleccione un producto por su nombre (o 'salir' para finalizar la compra): \")\n",
    "        if seleccion.lower() == 'salir': \n",
    "            break\n",
    "        for producto in inventario:\n",
    "            if producto['nombre'].lower() == seleccion:\n",
    "                cantidad = int(input(f\"¿Cuántas unidades de {seleccion} desea comprar? \"))\n",
    "                if cantidad <= producto['cantidad']:\n",
    "                    carrito.append({'nombre': seleccion, 'precio': producto['precio'], 'cantidad': cantidad})# aqui la lista carrito se va llenando\n",
    "                    coste_producto = producto['precio'] * cantidad \n",
    "                    coste_total += producto['precio'] * cantidad \n",
    "                    producto['cantidad'] -= cantidad\n",
    "                    print(f\"{cantidad} unidades de {seleccion} añadidas al carrito.\")\n",
    "                    print(coste_producto)\n",
    "                    \n",
    "                else:\n",
    "                    print(f\"No hay suficiente stock de {seleccion}. Stock disponible: {producto['cantidad']}\")\n",
    "                break\n",
    "        else:\n",
    "            print(\"Producto no encontrado en el inventario.\")\n",
    "    resultado_compra=(coste_total,carrito)\n",
    "    print(f\"El coste total de tu carro es {coste_total}\")\n",
    "    print(f\"tu carrito contiene{carrito}\") # compruebo que el carrito se va llenando\n",
    "    return  coste_total,carrito # lo añado porque quiero usar el coste total en la función procesar_pago y el carrito en la de registrar_compra\n",
    "    "
   ]
  },
  {
   "cell_type": "code",
   "execution_count": 528,
   "id": "9534857c",
   "metadata": {},
   "outputs": [
    {
     "name": "stdout",
     "output_type": "stream",
     "text": [
      "Producto: manzana, Precio: 20, Cantidad: 300\n",
      "Producto: naranja, Precio: 50, Cantidad: 400\n",
      "Producto: banana, Precio: 30, Cantidad: 145\n",
      "10 unidades de naranja añadidas al carrito.\n",
      "500\n",
      "Producto: manzana, Precio: 20, Cantidad: 300\n",
      "Producto: naranja, Precio: 50, Cantidad: 390\n",
      "Producto: banana, Precio: 30, Cantidad: 145\n",
      "El coste total de tu carro es 500.0\n",
      "tu carrito contiene[{'nombre': 'naranja', 'precio': 50, 'cantidad': 10}]\n"
     ]
    },
    {
     "data": {
      "text/plain": [
       "(500.0, [{'nombre': 'naranja', 'precio': 50, 'cantidad': 10}])"
      ]
     },
     "execution_count": 528,
     "metadata": {},
     "output_type": "execute_result"
    }
   ],
   "source": [
    "realizar_compra()"
   ]
  },
  {
   "cell_type": "code",
   "execution_count": 517,
   "id": "b90d7d5e",
   "metadata": {},
   "outputs": [
    {
     "name": "stdout",
     "output_type": "stream",
     "text": [
      "(150.0, [{'nombre': 'banana', 'precio': 30, 'cantidad': 5}])\n"
     ]
    }
   ],
   "source": [
    "print(resultado_compra) # quiero ver la tupla que me guarda"
   ]
  },
  {
   "cell_type": "markdown",
   "id": "a89a8246",
   "metadata": {},
   "source": [
    "## BONUS"
   ]
  },
  {
   "cell_type": "markdown",
   "id": "6063a97a",
   "metadata": {},
   "source": [
    "1.  procesar_pago(): Procesa el pago de una compra, calcula el cambio y muestra un mensaje de\n",
    "confirmación.\n",
    "Utiliza un bloque try...except para manejar excepciones.\n",
    "Solicita al cliente ingresar la cantidad total y la cantidad de pago usando un input\n",
    "Calcula el cambio y muestra un mensaje de pago exitoso o un error en caso de monto\n",
    "insuficiente\n",
    "\n",
    "Comentrios Personales\n",
    "\n",
    "No se si tiene sentido que el cliente ahaga un input con la cantidad a pagar.\n",
    "\n",
    "Voy a calcular con la funcion realizar compra, necesito ejecutar la funcion y como tengo el return me dejará usar ese valor y usarlo en una nueva variable. Si lo quiero simplificar le creo un paramatero a procesar_pago (valor a pagar)\n",
    "el input será por parte del cliente el monto que me va a dar\n",
    "El cambio es la diferencia entre el coste total y el monton dado por el cliente\n",
    "Generamos mensajes de error si el pago se ha realizado ocn éxito o si en cambio es insuficiente la cantidad"
   ]
  },
  {
   "cell_type": "code",
   "execution_count": 518,
   "id": "589c59bc",
   "metadata": {},
   "outputs": [],
   "source": [
    "def procesar_pago():\n",
    "\n",
    "    global resultado_compra\n",
    "\n",
    "    if not resultado_compra:\n",
    "        print(\"No hay ninguna compra registrada.Ejecuta realizar_compraprimero\") # si no he ejecutado la función realizar compra esta tupla estará vacía\n",
    "        return\n",
    "    total_a_pagar= resultado_compra[0] #Extraemos el total a pagar de la tupla\n",
    "    try:\n",
    "        print(f\"El coste total de su compra es: {total_a_pagar}\")\n",
    "        # total_a_pagar=float(input(\"Dime cual es el total a pagar:\")) No me parecía lógico que el usuario tenga uqe meter el valor apagar y lo he importado de lafunción realizar compra\n",
    "        monto_pagado = float(input(\"Ingrese la cantidad con la que va a pagar: \"))\n",
    "        if monto_pagado >= total_a_pagar:\n",
    "            cambio = monto_pagado - total_a_pagar\n",
    "            print(f\"Pago exitoso. Su cambio es: {cambio}\")\n",
    "        else:\n",
    "            print(\"Error: Monto insuficiente para cubrir el pago.\")\n",
    "    except ValueError:\n",
    "        print(\"Error: Entrada inválida. Por favor, ingrese un número válido.\")"
   ]
  },
  {
   "cell_type": "code",
   "execution_count": 529,
   "id": "0c7f50d8",
   "metadata": {},
   "outputs": [
    {
     "name": "stdout",
     "output_type": "stream",
     "text": [
      "El coste total de su compra es: 500.0\n",
      "Pago exitoso. Su cambio es: 200.0\n"
     ]
    }
   ],
   "source": [
    "procesar_pago()"
   ]
  },
  {
   "cell_type": "markdown",
   "id": "b62df401",
   "metadata": {},
   "source": [
    "2. agregar_cliente(nombre, email): Agrega un nuevo cliente al registro de clientes. Debe recibir\n",
    "el nombre y el correo electrónico del cliente como parámetros.\n",
    "Agrega un cliente al diccionario de clientes con su nombre y correo electrónico.\n",
    "\n",
    "\n",
    "Agregar a diccionario\n",
    "sacar mensajes de error si ya está en la lista"
   ]
  },
  {
   "cell_type": "code",
   "execution_count": 520,
   "id": "6575b1e3",
   "metadata": {},
   "outputs": [],
   "source": [
    "def agregar_cliente(nombre,email):\n",
    "    if nombre in clientes:\n",
    "        print(\"El cliente ya está registrado.\")\n",
    "    else:\n",
    "        clientes[nombre] = {'email': email, 'compras': []}\n",
    "        print(f\"Cliente {nombre} agregado exitosamente.\")"
   ]
  },
  {
   "cell_type": "code",
   "execution_count": 530,
   "id": "d4722df0",
   "metadata": {},
   "outputs": [
    {
     "name": "stdout",
     "output_type": "stream",
     "text": [
      "Cliente margarita agregado exitosamente.\n"
     ]
    }
   ],
   "source": [
    "agregar_cliente(\"margarita\",\"leiremarinas@gmail.com\")"
   ]
  },
  {
   "cell_type": "markdown",
   "id": "6160e4f9",
   "metadata": {},
   "source": [
    "3. ver_clientes(): Muestra la lista de clientes registrados con sus nombres y correos electrónicos.\n",
    "Utiliza un bucle for para recorrer la base de datos de clientes.\n",
    "Imprime los detalles de cada cliente (nombre y correo electrónico)\n",
    "\n",
    "si clientes fuera una lista de diccionarios cada i sería un diccionario completo y podría acceder a sus valores como nos pasó con inventario\n",
    "\n",
    "clientes- diccionario que hemos definido en estructura\n",
    "items devuelve un par clave-valor\n",
    "la clave ya es el nombre\n",
    "en valores tenemos email y compras "
   ]
  },
  {
   "cell_type": "code",
   "execution_count": 522,
   "id": "ae762dc9",
   "metadata": {},
   "outputs": [],
   "source": [
    "def ver_clientes():\n",
    "    for i,x in clientes.items(): # función específica de diccionarios,recorremos todos los valoresclave valor i podemos llamarla nombre y x detalles pero los dejo asi para ver que no son ninguna variable ya creada. Lo unico que uso es el diccionario clientes y su propiedad items\n",
    "        email=x['email']\n",
    "        compras=x['compras']\n",
    "        print(f\"Esta es la lista de clientes: {i},email:{email},compras:{compras}\")"
   ]
  },
  {
   "cell_type": "code",
   "execution_count": 531,
   "id": "c3f3989c",
   "metadata": {},
   "outputs": [
    {
     "name": "stdout",
     "output_type": "stream",
     "text": [
      "Esta es la lista de clientes: Ana García,email:ana.garcia@email.com,compras:[]\n",
      "Esta es la lista de clientes: Luis Fernández,email:luis.fernandez@email.com,compras:[]\n",
      "Esta es la lista de clientes: María López,email:maria.lopez@email.com,compras:[]\n",
      "Esta es la lista de clientes: Carlos Ruiz,email:carlos.ruiz@email.com,compras:[]\n",
      "Esta es la lista de clientes: Elena Martín,email:elena.martin@email.com,compras:[]\n",
      "Esta es la lista de clientes: Javier Torres,email:javier.torres@email.com,compras:[]\n",
      "Esta es la lista de clientes: Lucía Sánchez,email:lucia.sanchez@email.com,compras:[]\n",
      "Esta es la lista de clientes: Sergio Díaz,email:sergio.diaz@email.com,compras:[]\n",
      "Esta es la lista de clientes: Patricia Ramos,email:patricia.ramos@email.com,compras:[]\n",
      "Esta es la lista de clientes: Diego Navarro,email:diego.navarro@email.com,compras:[]\n",
      "Esta es la lista de clientes: Leire,email:leiremarinas@gmail.com,compras:[[{'nombre': 'banana', 'precio': 30, 'cantidad': 5}]]\n",
      "Esta es la lista de clientes: margarita,email:leiremarinas@gmail.com,compras:[]\n"
     ]
    }
   ],
   "source": [
    "ver_clientes()"
   ]
  },
  {
   "cell_type": "markdown",
   "id": "05183cbb",
   "metadata": {},
   "source": [
    "\n",
    "4. registrar_compra(nombre_cliente, carrito): Registra una compra para un cliente,\n",
    "actualiza las ventas totales y agrega la compra al historial del cliente. Debe recibir el nombre del\n",
    "cliente y el carrito de compras como parámetros.\n",
    "\n",
    "\n",
    "Busca al cliente en el diccionario de clientes.\n",
    "Si el cliente no esta en el diccionario de clientes, muestra que no se puede realizar la acción\n",
    "por que el cliente no está en el diccionario.\n",
    "Calcula el total de la compra y registra la compra, incluyendo los productos y el total\n",
    "\n",
    "\n",
    "\n",
    "variable con dos parámetros \n",
    "ventas totales lo tnego creado desde la estructura\n",
    "tengo que buscar un cliente en el diccionario clientes, voy a poner primero el mensaje de error si el cliente no está en la lista. Creo que será mas eficiente para el código\n",
    "\n",
    "carrito tiene que se una lista ya definida con items y precio, voy a traer de vuelta la función realizar compra para que de ella me devuelva no solo el valor sino"
   ]
  },
  {
   "cell_type": "code",
   "execution_count": null,
   "id": "1283dc46",
   "metadata": {},
   "outputs": [],
   "source": [
    "def registrar_compra(nombre_cliente,carrito):\n",
    "   global ventas_totales, resultado_compra\n",
    "\n",
    "   if resultado_compra is None:\n",
    "      \n",
    "         print(\"No hay ninguna compra registrada, volver a ejecutar realizar_compra\")\n",
    "         return # Si no tengo compra registrada no entro al loop le fuerzo a realizar compra\n",
    "\n",
    "   carrito=resultado_compra[1] # ahora cojo el segundo valor de la tupla que es el carrito\n",
    "\n",
    "   print(f\"Compra registrada para: {nombre_cliente}\")\n",
    "   print(f\"Detalles del carrito:{carrito}\")\n",
    "   \n",
    "   if nombre_cliente not in clientes:\n",
    "       print(\"No se puede realizar la acción porque el cliente no está en el diccionario.\")\n",
    "       return # sale de la función si el cliente no está en el diccionario\n",
    "   else:\n",
    "    for i in carrito:\n",
    "       precio=i['precio']\n",
    "       cantidad=i['cantidad']\n",
    "       total_compra=precio*cantidad\n",
    "       ventas_totales += total_compra # la nueva compra se suma a las ventas totales\n",
    "      #clientes[nombre_cliente][\"compras\"].append(carrito) #si lo añado aqui me mete por cada i\n",
    "      # print(ventas_totales)\n",
    "   clientes[nombre_cliente][\"compras\"].append(carrito.copy()) # Añado carrito a la compra del cliente, le hagouna copia pq después le estoy haciendo clear a la variable y no llegaba a meterlo bien en el dicionario\n",
    "   resultado_compra=None # Una vez registrada la compra quiero vaciar la variable global para no registrar la compra varias veces \n",
    "   carrito.clear()\n",
    "   print(f\"Ventas Totales: {ventas_totales}\")"
   ]
  },
  {
   "cell_type": "code",
   "execution_count": 532,
   "id": "f7317ea1",
   "metadata": {},
   "outputs": [
    {
     "name": "stdout",
     "output_type": "stream",
     "text": [
      "Compra registrada para: margarita\n",
      "Detalles del carrito:[{'nombre': 'naranja', 'precio': 50, 'cantidad': 10}]\n",
      "Ventas Totales: 650.0\n"
     ]
    }
   ],
   "source": [
    "registrar_compra (\"margarita\",carrito)"
   ]
  },
  {
   "cell_type": "code",
   "execution_count": 533,
   "id": "6f953013",
   "metadata": {},
   "outputs": [
    {
     "name": "stdout",
     "output_type": "stream",
     "text": [
      "Esta es la lista de clientes: Ana García,email:ana.garcia@email.com,compras:[]\n",
      "Esta es la lista de clientes: Luis Fernández,email:luis.fernandez@email.com,compras:[]\n",
      "Esta es la lista de clientes: María López,email:maria.lopez@email.com,compras:[]\n",
      "Esta es la lista de clientes: Carlos Ruiz,email:carlos.ruiz@email.com,compras:[]\n",
      "Esta es la lista de clientes: Elena Martín,email:elena.martin@email.com,compras:[]\n",
      "Esta es la lista de clientes: Javier Torres,email:javier.torres@email.com,compras:[]\n",
      "Esta es la lista de clientes: Lucía Sánchez,email:lucia.sanchez@email.com,compras:[]\n",
      "Esta es la lista de clientes: Sergio Díaz,email:sergio.diaz@email.com,compras:[]\n",
      "Esta es la lista de clientes: Patricia Ramos,email:patricia.ramos@email.com,compras:[]\n",
      "Esta es la lista de clientes: Diego Navarro,email:diego.navarro@email.com,compras:[]\n",
      "Esta es la lista de clientes: Leire,email:leiremarinas@gmail.com,compras:[[{'nombre': 'banana', 'precio': 30, 'cantidad': 5}]]\n",
      "Esta es la lista de clientes: margarita,email:leiremarinas@gmail.com,compras:[[{'nombre': 'naranja', 'precio': 50, 'cantidad': 10}]]\n"
     ]
    }
   ],
   "source": [
    "ver_clientes()"
   ]
  },
  {
   "cell_type": "markdown",
   "id": "3cca5d84",
   "metadata": {},
   "source": [
    "5. ver_compras_cliente(nombre_cliente) : Muestra el historial de compras de un cliente. Debe\n",
    "recibir el nombre del cliente como parámetro.\n",
    "Busca al cliente en el diccionario de clientes.\n",
    "Muestra las compras realizadas por el cliente, incluyendo detalles de productos y totales"
   ]
  },
  {
   "cell_type": "code",
   "execution_count": 481,
   "id": "97cc6ae6",
   "metadata": {},
   "outputs": [],
   "source": [
    "def ver_compras_cliente(nombre_cliente):\n",
    "\n",
    "    if nombre_cliente not in clientes:\n",
    "        print(\"No se puede realizar la acción porque el cliente no está en el diccionario.\")\n",
    "        return  # sale de la función si el cliente no está en el diccionario\n",
    "    historial=clientes[nombre_cliente]['compras'] # busco la lista de compras del cliente\n",
    "\n",
    "    if not historial: # la lista de compras está vacía\n",
    "        print(f\"EL cliente {nombre_cliente} no tiene compras registradas. \")\n",
    "        return\n",
    "    print(f\"Historal de compras para {nombre_cliente}\")\n",
    "    total_general=0 # contador para ir acumulando compras\n",
    "\n",
    "    for i, compra in enumerate(historial,start=1): # enumerate recorre la lista historal y al mismo tiempo obtiene le índice de cada elemento empezando en 1\n",
    "        print(f\"compra número {i}\")\n",
    "        total_compra=0\n",
    "        for producto in compra:\n",
    "            nombre=producto[\"nombre\"]\n",
    "            precio=float(producto[\"precio\"])\n",
    "            cantidad=int(producto[\"cantidad\"])\n",
    "            subtotal=precio*cantidad\n",
    "\n",
    "            print(f\"compra {i}:{nombre} cantidad {cantidad}\")\n",
    "            total_compra += subtotal\n",
    "\n",
    "        print(f\"Total de la compra {i}: €{total_compra:}\")\n",
    "        total_general += total_compra\n",
    "\n",
    "    # Mostrar el total gastado por el cliente\n",
    "    print(f\"\\nTotal gastado por {nombre_cliente}: €{total_general:}\")"
   ]
  },
  {
   "cell_type": "code",
   "execution_count": 538,
   "id": "f206777c",
   "metadata": {},
   "outputs": [
    {
     "name": "stdout",
     "output_type": "stream",
     "text": [
      "Historal de compras para Leire\n",
      "compra número 1\n",
      "compra 1:banana cantidad 5\n",
      "Total de la compra 1: €150.0\n",
      "\n",
      "Total gastado por Leire: €150.0\n"
     ]
    }
   ],
   "source": [
    "ver_compras_cliente(\"Leire\")"
   ]
  },
  {
   "cell_type": "markdown",
   "id": "0a97ba00",
   "metadata": {},
   "source": [
    "6. calcular_ventas_totales(): Muestra las ventas totales de la tienda.\n",
    "Suma los totales de todas las compras realizadas y muestra el total de ventas totales en la\n",
    "tienda.\n",
    "\n",
    "\n",
    "En la función registrar compra por cada compra le estoy sumando a la variable global ventas_totales, con lo que ahora lo único que tengo que hacer es imprimir esa variable."
   ]
  },
  {
   "cell_type": "code",
   "execution_count": 426,
   "id": "33982ee4",
   "metadata": {},
   "outputs": [],
   "source": [
    "def calcular_ventas_totales():\n",
    "    print(f\"💰 Ventas totales de la tienda: €{ventas_totales:.2f}\") # como ventas totales es un float le digo qeuque me lo saque con dos decimales, aunque en relaidad he puesto precios exactos con lo que siempre será 00"
   ]
  },
  {
   "cell_type": "code",
   "execution_count": 539,
   "id": "22fee81a",
   "metadata": {},
   "outputs": [
    {
     "name": "stdout",
     "output_type": "stream",
     "text": [
      "💰 Ventas totales de la tienda: €650.00\n"
     ]
    }
   ],
   "source": [
    "calcular_ventas_totales()"
   ]
  }
 ],
 "metadata": {
  "kernelspec": {
   "display_name": "py13",
   "language": "python",
   "name": "python3"
  },
  "language_info": {
   "codemirror_mode": {
    "name": "ipython",
    "version": 3
   },
   "file_extension": ".py",
   "mimetype": "text/x-python",
   "name": "python",
   "nbconvert_exporter": "python",
   "pygments_lexer": "ipython3",
   "version": "3.13.7"
  }
 },
 "nbformat": 4,
 "nbformat_minor": 5
}
