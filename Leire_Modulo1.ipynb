{
 "cells": [
  {
   "cell_type": "markdown",
   "id": "e0b9bff8",
   "metadata": {},
   "source": [
    "## ESTRUCTURAS\n",
    "\n",
    "1.  inventario (lista de diccionarios): Un atributo para almacenar los productos en el inventario. Cada\n",
    "producto debe ser representado como un diccionario con las siguientes claves: 'nombre',\n",
    "'precio', y 'cantidad'. Al principio deberá ser una lista vacía. \n",
    "\n",
    "2. clientes (diccionario): Una estructura para llevar un registro de los clientes de la tienda.\n",
    "\n",
    "Aqui no se especifíca que el diccionario este vacío al empezar con lo que lo crearé con el listado que nos dan\n",
    "\n",
    "\n",
    "3. ventas_totales (float): Una variable para llevar un registro de las ventas totales de la tienda.\n",
    "Inicialízala con valor 0."
   ]
  },
  {
   "cell_type": "code",
   "execution_count": null,
   "id": "cce37fe3",
   "metadata": {},
   "outputs": [
    {
     "name": "stdout",
     "output_type": "stream",
     "text": [
      "<class 'list'>\n",
      "<class 'dict'>\n",
      "{'Ana García': {'email': 'ana.garcia@email.com', 'compras': []}, 'Luis Fernández': {'email': 'luis.fernandez@email.com', 'compras': []}, 'María López': {'email': 'maria.lopez@email.com', 'compras': []}, 'Carlos Ruiz': {'email': 'carlos.ruiz@email.com', 'compras': []}, 'Elena Martín': {'email': 'elena.martin@email.com', 'compras': []}, 'Javier Torres': {'email': 'javier.torres@email.com', 'compras': []}, 'Lucía Sánchez': {'email': 'lucia.sanchez@email.com', 'compras': []}, 'Sergio Díaz': {'email': 'sergio.diaz@email.com', 'compras': []}, 'Patricia Ramos': {'email': 'patricia.ramos@email.com', 'compras': []}, 'Diego Navarro': {'email': 'diego.navarro@email.com', 'compras': []}}\n",
      "<class 'float'>\n",
      "0.0\n"
     ]
    },
    {
     "name": "stdout",
     "output_type": "stream",
     "text": [
      "<class 'list'>\n",
      "<class 'dict'>\n",
      "{'Ana García': {'email': 'ana.garcia@email.com', 'compras': []}, 'Luis Fernández': {'email': 'luis.fernandez@email.com', 'compras': []}, 'María López': {'email': 'maria.lopez@email.com', 'compras': []}, 'Carlos Ruiz': {'email': 'carlos.ruiz@email.com', 'compras': []}, 'Elena Martín': {'email': 'elena.martin@email.com', 'compras': []}, 'Javier Torres': {'email': 'javier.torres@email.com', 'compras': []}, 'Lucía Sánchez': {'email': 'lucia.sanchez@email.com', 'compras': []}, 'Sergio Díaz': {'email': 'sergio.diaz@email.com', 'compras': []}, 'Patricia Ramos': {'email': 'patricia.ramos@email.com', 'compras': []}, 'Diego Navarro': {'email': 'diego.navarro@email.com', 'compras': []}}\n",
      "<class 'float'>\n",
      "0.0\n"
     ]
    }
   ],
   "source": [
    "inventario=[]\n",
    "print(type(inventario)) #1. quiero confirmar que he creado una lista vacía\n",
    "\n",
    "clientes= { 'Ana García': {'email': 'ana.garcia@email.com', 'compras': []}, \n",
    "    'Luis Fernández': {'email': 'luis.fernandez@email.com', 'compras': []}, \n",
    "    'María López': {'email': 'maria.lopez@email.com', 'compras': []}, \n",
    "    'Carlos Ruiz': {'email': 'carlos.ruiz@email.com', 'compras': []}, \n",
    "    'Elena Martín': {'email': 'elena.martin@email.com', 'compras': []}, \n",
    "    'Javier Torres': {'email': 'javier.torres@email.com', 'compras': []}, \n",
    "    'Lucía Sánchez': {'email': 'lucia.sanchez@email.com', 'compras': []}, \n",
    "    'Sergio Díaz': {'email': 'sergio.diaz@email.com', 'compras': []},\n",
    "    'Patricia Ramos': {'email': 'patricia.ramos@email.com', 'compras':[]},\n",
    "    'Diego Navarro': {'email': 'diego.navarro@email.com', 'compras': []} }\n",
    "\n",
    "print(type(clientes)) #2 quiero confirmar que he creado un diccionario\n",
    "print(clientes) # 2 quiero ver el contenido del diccionario\n",
    "\n",
    "ventas_totales=0.0\n",
    "print(type(ventas_totales)) #3 quiero confirmar que he creado una variable float\n",
    "print(ventas_totales) #3 quiero ver el contenido de la variable"
   ]
  },
  {
   "cell_type": "markdown",
   "id": "65a7f514",
   "metadata": {},
   "source": [
    "## FUNCIONES"
   ]
  },
  {
   "cell_type": "markdown",
   "id": "33311462",
   "metadata": {},
   "source": [
    "1. agregar_producto(nombre, precio, cantidad) : Agrega un producto al inventario o\n",
    "actualiza su cantidad si ya existe. Debe recibir el nombre, precio y cantidad del producto como\n",
    "parámetros.\n",
    "Itera a través del inventario y compara los nombres de los productos con el nombre\n",
    "proporcionado.\n",
    "Si el producto ya existe, actualiza la cantidad.\n",
    "Si no existe, agrega un nuevo producto al inventario\n",
    "\n",
    "\n",
    "Pasos:\n",
    "\n",
    "Crear función agregra producto con tres parámetros: nombre, precio, cantidad\n",
    "si el producto existe aumentar cantidad. El producto lo voya identificar por el nombre\n",
    "si el producto noexiste se agrega a la lista\n",
    "Hacer pruebas de que está funcionando bien"
   ]
  },
  {
   "cell_type": "code",
   "execution_count": null,
   "id": "b58d6067",
   "metadata": {},
   "outputs": [],
   "source": [
    "def agregar_producto(nombre, precio, cantidad):\n",
    "    for producto in inventario:\n",
    "        if producto['nombre'] == nombre:\n",
    "            producto['cantidad'] += cantidad\n",
    "            return\n",
    "    nuevo_producto = {'nombre': nombre, 'precio': precio, 'cantidad': cantidad}\n",
    "    inventario.append(nuevo_producto)\n",
    "    return"
   ]
  },
  {
   "cell_type": "code",
   "execution_count": null,
   "id": "aed8d1bc",
   "metadata": {},
   "outputs": [
    {
     "name": "stdout",
     "output_type": "stream",
     "text": [
      "[{'nombre': 'manzana', 'precio': 20, 'cantidad': 100}, {'nombre': 'banana', 'precio': 30, 'cantidad': 150}, {'nombre': 'naranja', 'precio': 50, 'cantidad': 200}]\n"
     ]
    }
   ],
   "source": [
    "agregar_producto('manzana', 20, 100)\n",
    "agregar_producto('banana', 30, 150)\n",
    "agregar_producto('naranja', 50, 200)\n",
    "print(inventario) # compruebo función agregar_producto con productos nuevos"
   ]
  },
  {
   "cell_type": "code",
   "execution_count": null,
   "id": "f31c0922",
   "metadata": {},
   "outputs": [
    {
     "name": "stdout",
     "output_type": "stream",
     "text": [
      "[{'nombre': 'manzana', 'precio': 20, 'cantidad': 200}, {'nombre': 'banana', 'precio': 30, 'cantidad': 150}, {'nombre': 'naranja', 'precio': 50, 'cantidad': 200}]\n"
     ]
    }
   ],
   "source": [
    "agregar_producto('manzana', 20, 100)\n",
    "print(inventario) # compruebo función agregar_producto con producto existente, tendriamos que tener 200 manzanas"
   ]
  },
  {
   "cell_type": "markdown",
   "id": "46cd87d7",
   "metadata": {},
   "source": [
    "2. ver_inventario(): Muestra el inventario de productos con sus detalles.\n",
    "Utiliza un bucle for para recorrer el inventario.\n",
    "Imprime los detalles (nombre, precio, cantidad) de cada producto\n",
    "\n",
    "Esta funciono podría ser directamente print(inventario) entiendo que creamos la función para que la legibilidad sea mejor y que podamos utilizar a posteriori\n",
    "\n",
    "Crear funcion ver_inventario sin parametros\n",
    "crear bucle for para recorrer lalista de inventario\n",
    "¿Que pasa si el producto no esta en la lista? que me devuelva mensaje el: el inventarío está vacío\n",
    "compruebo que funciona"
   ]
  },
  {
   "cell_type": "code",
   "execution_count": null,
   "id": "dd2ff55d",
   "metadata": {},
   "outputs": [],
   "source": [
    "def ver_inventario():\n",
    "    for producto in inventario:\n",
    "        nombre = producto['nombre']\n",
    "        precio= producto['precio']\n",
    "        cantidad= producto['cantidad']\n",
    "        ## Imprimir los detalles del producto dentro del bucle\n",
    "        print(f\"Producto: {nombre}, Precio: {precio}, Cantidad: {cantidad}\")\n",
    "        if not inventario:\n",
    "            print(\"El inventario está vacío.\")\n",
    "            return # sale de la función si está vacío\n"
   ]
  },
  {
   "cell_type": "code",
   "execution_count": null,
   "id": "a9383add",
   "metadata": {},
   "outputs": [
    {
     "name": "stdout",
     "output_type": "stream",
     "text": [
      "Producto: manzana, Precio: 20, Cantidad: 200\n",
      "Producto: banana, Precio: 30, Cantidad: 150\n",
      "Producto: naranja, Precio: 50, Cantidad: 200\n",
      "[{'nombre': 'manzana', 'precio': 20, 'cantidad': 200}, {'nombre': 'banana', 'precio': 30, 'cantidad': 150}, {'nombre': 'naranja', 'precio': 50, 'cantidad': 200}]\n"
     ]
    }
   ],
   "source": [
    "ver_inventario() # compruebo función ver_inventario\n",
    "print(inventario)"
   ]
  },
  {
   "cell_type": "markdown",
   "id": "67ea22cd",
   "metadata": {},
   "source": [
    "3.buscar_producto(nombre): Busca un producto en el inventario por nombre y muestra sus\n",
    "detalles si se encuentra. Debe recibir el nombre del producto como parámetro.\n",
    "Utiliza un bucle for para recorrer el inventario.\n",
    "Compara los nombres de los productos con el nombre proporcionado.\n",
    "Si se encuentra el producto, imprime sus detalles\n",
    "\n",
    "Pasos\n",
    "Función con un parámtro, nombre\n",
    "abro bucle for\n",
    "si encuentra el producto imprimo los detalles\n",
    "sino encuentra el producot devolver mensaje producto no en inventario"
   ]
  },
  {
   "cell_type": "code",
   "execution_count": null,
   "id": "166e8746",
   "metadata": {},
   "outputs": [],
   "source": [
    "def buscar_producto(nombre):\n",
    "    for producto in inventario:\n",
    "        if producto['nombre'] == nombre:\n",
    "            precio = producto['precio']\n",
    "            cantidad = producto['cantidad']\n",
    "            print(f\"Producto encontrado: {nombre}, Precio: {precio}, Cantidad: {cantidad}\")\n",
    "            return # sale de la función si lo encuentra\n",
    "    else: \n",
    "        print(\"El inventario está vacío.\")\n",
    "        return # sale de la función si está vacío   \n",
    "    "
   ]
  },
  {
   "cell_type": "code",
   "execution_count": null,
   "id": "8555b107",
   "metadata": {},
   "outputs": [
    {
     "name": "stdout",
     "output_type": "stream",
     "text": [
      "Producto encontrado: banana, Precio: 30, Cantidad: 150\n"
     ]
    }
   ],
   "source": [
    "buscar_producto('banana') # compruebo función buscar_producto con producto existente\n"
   ]
  },
  {
   "cell_type": "code",
   "execution_count": null,
   "id": "38b70d78",
   "metadata": {},
   "outputs": [
    {
     "name": "stdout",
     "output_type": "stream",
     "text": [
      "El inventario está vacío.\n"
     ]
    }
   ],
   "source": [
    "buscar_producto('pera') # compruebo función buscar_producto con producto no existente"
   ]
  },
  {
   "cell_type": "markdown",
   "id": "9870198a",
   "metadata": {},
   "source": [
    "4. actualizar_stock(nombre, cantidad): Actualiza el stock de un producto en el inventario.\n",
    "Debe recibir el nombre del producto y la cantidad a agregar o quitar como parámetros.\n",
    "\n",
    "Utiliza un bucle for para recorrer el inventario\n",
    "Busca el producto por nombre.\n",
    "Actualiza la cantidad según la entrada del usuario.\n",
    "Si el producto no esta en el inventario muestra un mensaje indicándolo."
   ]
  },
  {
   "cell_type": "code",
   "execution_count": null,
   "id": "6913a328",
   "metadata": {},
   "outputs": [],
   "source": [
    "def actualizar_stock(nombre,cantidad):\n",
    "    for producto in inventario:\n",
    "        if producto['nombre'] == nombre:\n",
    "            producto['cantidad'] += cantidad\n",
    "            print(f\"Stock actualizado para {nombre}. Nueva cantidad: {producto['cantidad']}\")\n",
    "            return # sale de la función si lo encuentra\n",
    "    else: \n",
    "        print(\"El producto no está en el inventario.\")\n",
    "        return # sale de la función si está vacío"
   ]
  },
  {
   "cell_type": "code",
   "execution_count": null,
   "id": "5a4b09c8",
   "metadata": {},
   "outputs": [
    {
     "name": "stdout",
     "output_type": "stream",
     "text": [
      "Stock actualizado para banana. Nueva cantidad: 200\n"
     ]
    }
   ],
   "source": [
    "actualizar_stock('banana', 50) # compruebo función actualizar_stock con producto existente, antes tenáimos 150 ahora tendremos 200"
   ]
  },
  {
   "cell_type": "markdown",
   "id": "c7e5555b",
   "metadata": {},
   "source": [
    "5. eliminar_producto(nombre): Elimina un producto del inventario por nombre. Debe recibir el nombre del producto como parámetro.\n",
    "Utiliza un bucle for para recorrer el inventario.\n",
    "Busca el producto por nombre.\n",
    "Elimina el producto del inventario si existe.\n",
    "Si el producto no esta en el inventario muestra un mensaje indicándolo"
   ]
  },
  {
   "cell_type": "code",
   "execution_count": null,
   "id": "ac867cce",
   "metadata": {},
   "outputs": [],
   "source": [
    "def eliminar_producto(nombre):\n",
    "    for producto in (inventario):\n",
    "        if producto['nombre'] == nombre:\n",
    "            inventario.remove(producto)\n",
    "            print(f\"Producto {nombre} eliminado del inventario.\")\n",
    "            return # sale de la función si lo encuentra\n",
    "    else: \n",
    "        print(\"El producto no está en el inventario.\")\n",
    "        return # sale de la función si está vacío"
   ]
  },
  {
   "cell_type": "code",
   "execution_count": null,
   "id": "00f0bea7",
   "metadata": {},
   "outputs": [
    {
     "name": "stdout",
     "output_type": "stream",
     "text": [
      "Producto: manzana, Precio: 20, Cantidad: 200\n",
      "Producto: banana, Precio: 30, Cantidad: 200\n",
      "Producto: naranja, Precio: 50, Cantidad: 200\n",
      "Producto banana eliminado del inventario.\n",
      "El producto no está en el inventario.\n",
      "Producto: manzana, Precio: 20, Cantidad: 200\n",
      "Producto: naranja, Precio: 50, Cantidad: 200\n"
     ]
    }
   ],
   "source": [
    "ver_inventario()\n",
    "eliminar_producto('banana') # compruebo función eliminar_producto con producto existente\n",
    "eliminar_producto('pera') # compruebo función eliminar_producto con producto no existente\n",
    "ver_inventario()"
   ]
  },
  {
   "cell_type": "markdown",
   "id": "c0fa0b80",
   "metadata": {},
   "source": [
    "6. calcular_valor_inventario(): Calcula y muestra el valor total del inventario.\n",
    "Utiliza un bucle for para calcular el valor total del inventario.\n",
    "Itera a través del inventario y suma el valor de cada producto (precio x cantidad). Es decir calcula el valor total del inventario\n",
    "\n"
   ]
  },
  {
   "cell_type": "code",
   "execution_count": null,
   "id": "c372287a",
   "metadata": {},
   "outputs": [],
   "source": [
    "def valor_inventario():\n",
    "    for producto in inventario:\n",
    "        valor= producto['precio'] * producto['cantidad']\n",
    "        print(f\"El valor del inventario es: {valor}\")\n",
    "    "
   ]
  },
  {
   "cell_type": "code",
   "execution_count": null,
   "id": "100286d0",
   "metadata": {},
   "outputs": [
    {
     "name": "stdout",
     "output_type": "stream",
     "text": [
      "Producto: manzana, Precio: 20, Cantidad: 200\n",
      "Producto: naranja, Precio: 50, Cantidad: 200\n",
      "El valor del inventario es: 4000\n",
      "El valor del inventario es: 10000\n"
     ]
    }
   ],
   "source": [
    "ver_inventario() # imprimo para calcular a mano si el valor que me de la función valor_inventario es correcto\n",
    "valor_inventario()"
   ]
  },
  {
   "cell_type": "markdown",
   "id": "52ebd31d",
   "metadata": {},
   "source": [
    "Me está imprimiendo el valor por producto y no el valor total, voy a añadir un contador"
   ]
  },
  {
   "cell_type": "code",
   "execution_count": null,
   "id": "36882799",
   "metadata": {},
   "outputs": [],
   "source": [
    "def valor_inventario():\n",
    "    valor_total = 0\n",
    "    for producto in inventario:\n",
    "        valor_total += producto['precio'] * producto['cantidad']\n",
    "    print(f\"El valor total del inventario es: {valor_total}\")\n",
    "    return valor_total"
   ]
  },
  {
   "cell_type": "code",
   "execution_count": null,
   "id": "213788c0",
   "metadata": {},
   "outputs": [
    {
     "name": "stdout",
     "output_type": "stream",
     "text": [
      "El valor total del inventario es: 14000\n"
     ]
    },
    {
     "data": {
      "text/plain": [
       "14000"
      ]
     },
     "execution_count": 80,
     "metadata": {},
     "output_type": "execute_result"
    }
   ],
   "source": [
    "valor_inventario()"
   ]
  },
  {
   "cell_type": "markdown",
   "id": "f4557002",
   "metadata": {},
   "source": [
    "7.  realizar_compra(): Permite a un cliente realizar una compra seleccionando productos del\n",
    "inventario. Debe interactuar con el cliente para seleccionar productos y calcular el costo total de la\n",
    "compra.\n",
    "Utiliza un bucle while para permitir al cliente realizar múltiples compras.\n",
    "Muestra el inventario y solicita al cliente ingresar el nombre del producto que desea comprar.\n",
    "Registra los productos seleccionados en un carrito y actualiza el inventario.\n",
    "Calcula el costo total de la compra.\n",
    "\n",
    "\n",
    "Pasos \n",
    "\n",
    "voy a crear una lista vacía dónde ir agregando  y una variable que haga de contador para el coste total\n",
    "\n",
    "bucle principal, mientras el cliente decida seguir comprando estará en esta lista\n",
    "hay que ir mostrando le inventario y pidiendo input de cliente de los productos y cantidad que quiere\n",
    "todo lo que vaya seleccionando se tiene que agregar al carrito y sumas al importe total\n",
    "darle la opción de salir de la compra\n",
    "procesar selección, has comprado tanto y el coste es tanto\n",
    "\n",
    "\n"
   ]
  },
  {
   "cell_type": "code",
   "execution_count": null,
   "id": "5a4c4b20",
   "metadata": {},
   "outputs": [
    {
     "name": "stdout",
     "output_type": "stream",
     "text": [
      "Producto: manzana, Precio: 20, Cantidad: 100\n",
      "Producto: banana, Precio: 30, Cantidad: 150\n",
      "Producto: naranja, Precio: 50, Cantidad: 200\n"
     ]
    }
   ],
   "source": [
    " # he vaciado el inventario, lo lleno esto es independiente de la función realizar_compra\n",
    "agregar_producto('manzana', 20, 100)\n",
    "agregar_producto('banana', 30, 150)\n",
    "agregar_producto('naranja', 50, 200)\n",
    "ver_inventario()\n"
   ]
  },
  {
   "cell_type": "code",
   "execution_count": null,
   "id": "3754e1bd",
   "metadata": {},
   "outputs": [],
   "source": [
    "def realizar_compra():\n",
    "    carrito= []\n",
    "    coste_total=0.0\n",
    "\n",
    "    while True:\n",
    "        ver_inventario()\n",
    "        seleccion = input(\"Seleccione un producto por su nombre (o 'salir' para finalizar la compra): \")\n",
    "        if seleccion.lower() == 'salir': # independientemente de como escriba el usuario salir lo paso todo a min. para que coincida con mi salir y no de problemas\n",
    "            break\n",
    "        for producto in inventario:\n",
    "            if producto['nombre'] == seleccion:\n",
    "                cantidad = int(input(f\"¿Cuántas unidades de {seleccion} desea comprar? \"))\n",
    "                if cantidad <= producto['cantidad']:\n",
    "                    carrito.append({'nombre': seleccion, 'precio': producto['precio'], 'cantidad': cantidad})\n",
    "                    coste_producto = producto['precio'] * cantidad # calculamos en ese momento el coste del producto que ha seleccionado\n",
    "                    coste_total += producto['precio'] * cantidad # nos va sumando el coste de cada producto añadido al carrito\n",
    "                    producto['cantidad'] -= cantidad\n",
    "                    print(f\"{cantidad} unidades de {seleccion} añadidas al carrito.\")\n",
    "                    print(coste_producto)\n",
    "                    \n",
    "                else:\n",
    "                    print(f\"No hay suficiente stock de {seleccion}. Stock disponible: {producto['cantidad']}\")\n",
    "                break\n",
    "        else:\n",
    "            print(\"Producto no encontrado en el inventario.\")\n",
    "    print(f\"EL coste total de tu carro es {coste_total}\")"
   ]
  },
  {
   "cell_type": "code",
   "execution_count": 104,
   "id": "9534857c",
   "metadata": {},
   "outputs": [
    {
     "name": "stdout",
     "output_type": "stream",
     "text": [
      "Producto: manzana, Precio: 20, Cantidad: 90\n",
      "Producto: banana, Precio: 30, Cantidad: 140\n",
      "Producto: naranja, Precio: 50, Cantidad: 200\n",
      "Producto no encontrado en el inventario.\n",
      "Producto: manzana, Precio: 20, Cantidad: 90\n",
      "Producto: banana, Precio: 30, Cantidad: 140\n",
      "Producto: naranja, Precio: 50, Cantidad: 200\n",
      "5 unidades de manzana añadidas al carrito.\n",
      "100\n",
      "Producto: manzana, Precio: 20, Cantidad: 85\n",
      "Producto: banana, Precio: 30, Cantidad: 140\n",
      "Producto: naranja, Precio: 50, Cantidad: 200\n",
      "Producto no encontrado en el inventario.\n",
      "Producto: manzana, Precio: 20, Cantidad: 85\n",
      "Producto: banana, Precio: 30, Cantidad: 140\n",
      "Producto: naranja, Precio: 50, Cantidad: 200\n",
      "2 unidades de banana añadidas al carrito.\n",
      "60\n",
      "Producto: manzana, Precio: 20, Cantidad: 85\n",
      "Producto: banana, Precio: 30, Cantidad: 138\n",
      "Producto: naranja, Precio: 50, Cantidad: 200\n",
      "EL coste total de tu carro es 160.0\n"
     ]
    }
   ],
   "source": [
    "realizar_compra()"
   ]
  }
 ],
 "metadata": {
  "kernelspec": {
   "display_name": "py13",
   "language": "python",
   "name": "python3"
  },
  "language_info": {
   "codemirror_mode": {
    "name": "ipython",
    "version": 3
   },
   "file_extension": ".py",
   "mimetype": "text/x-python",
   "name": "python",
   "nbconvert_exporter": "python",
   "pygments_lexer": "ipython3",
   "version": "3.13.7"
  }
 },
 "nbformat": 4,
 "nbformat_minor": 5
}
