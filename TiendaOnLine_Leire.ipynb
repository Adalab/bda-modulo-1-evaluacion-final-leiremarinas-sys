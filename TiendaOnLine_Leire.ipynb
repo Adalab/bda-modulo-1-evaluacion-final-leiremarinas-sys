{
 "cells": [
  {
   "cell_type": "markdown",
   "id": "c6542a6e",
   "metadata": {},
   "source": [
    "Voy a crear todo el código en una única celda como si fuera un programa completo así organizao y estructuro las funciones creadas.\n",
    "\n",
    "Antes usabamos variables globales definidas en estructura, las funciones trabajan directamente sobre las variables globales\n",
    "\n",
    "Ahora puedo tener varias tiendas eeejecutándose a la vez sin irse pisando unas a otras."
   ]
  },
  {
   "cell_type": "code",
   "execution_count": 21,
   "id": "130266d8",
   "metadata": {},
   "outputs": [],
   "source": [
    "class TiendaOnline: # Todo está dentro de esta clase\n",
    "    def __init__(self):\n",
    "        # ESTRUCTURAS\n",
    "        self.inventario = [] # lo que antes eran variables globales ahora se vuelven atributos\n",
    "        self.clientes = { \n",
    "            'Ana García': {'email': 'ana.garcia@email.com', 'compras': []}, \n",
    "            'Luis Fernández': {'email': 'luis.fernandez@email.com', 'compras': []}, \n",
    "            'María López': {'email': 'maria.lopez@email.com', 'compras': []}, \n",
    "            'Carlos Ruiz': {'email': 'carlos.ruiz@email.com', 'compras': []}, \n",
    "            'Elena Martín': {'email': 'elena.martin@email.com', 'compras': []}, \n",
    "            'Javier Torres': {'email': 'javier.torres@email.com', 'compras': []}, \n",
    "            'Lucía Sánchez': {'email': 'lucia.sanchez@email.com', 'compras': []}, \n",
    "            'Sergio Díaz': {'email': 'sergio.diaz@email.com', 'compras': []},\n",
    "            'Patricia Ramos': {'email': 'patricia.ramos@email.com', 'compras':[]},\n",
    "            'Diego Navarro': {'email': 'diego.navarro@email.com', 'compras': []}\n",
    "        }\n",
    "        self.ventas_totales = 0.0\n",
    "        self.resultado_compra = None  # guarda (total, carrito)\n",
    "\n",
    "    # 1️⃣ Agregar producto\n",
    "    def agregar_producto(self, nombre, precio, cantidad):\n",
    "        nombre_normalizado = nombre.strip().lower()\n",
    "        for producto in self.inventario:\n",
    "            if producto['nombre'] == nombre_normalizado:\n",
    "                producto['cantidad'] += cantidad\n",
    "                return\n",
    "        nuevo_producto = {'nombre': nombre_normalizado, 'precio': precio, 'cantidad': cantidad}\n",
    "        self.inventario.append(nuevo_producto)\n",
    "\n",
    "    # 2️⃣ Ver inventario\n",
    "    def ver_inventario(self):\n",
    "        if not self.inventario:\n",
    "            print(\"El inventario está vacío.\")\n",
    "            return\n",
    "        for producto in self.inventario:\n",
    "            print(f\"Producto: {producto['nombre']}, Precio: {producto['precio']}, Cantidad: {producto['cantidad']}\")\n",
    "\n",
    "    # 3️⃣ Buscar producto\n",
    "    def buscar_producto(self, nombre):\n",
    "        nombre_normalizado = nombre.strip().lower()\n",
    "        if not self.inventario:\n",
    "            print(\"El inventario está vacío.\")\n",
    "            return\n",
    "        for producto in self.inventario:\n",
    "            if producto['nombre'] == nombre_normalizado:\n",
    "                print(f\"Producto encontrado: {nombre}, Precio: {producto['precio']}, Cantidad: {producto['cantidad']}\")\n",
    "                return\n",
    "        print(f\"Producto no encontrado: {nombre}\")\n",
    "\n",
    "    # 4️⃣ Actualizar stock\n",
    "    def actualizar_stock(self, nombre, cantidad):\n",
    "        nombre_normalizado = nombre.strip().lower()\n",
    "        for producto in self.inventario:\n",
    "            if producto['nombre'] == nombre_normalizado:\n",
    "                producto['cantidad'] += cantidad\n",
    "                print(f\"Stock actualizado para {nombre}. Nueva cantidad: {producto['cantidad']}\")\n",
    "                return\n",
    "        print(\"El producto no está en el inventario.\")\n",
    "\n",
    "    # 5️⃣ Eliminar producto\n",
    "    def eliminar_producto(self, nombre):\n",
    "        nombre_normalizado = nombre.strip().lower()\n",
    "        for producto in self.inventario:\n",
    "            if producto['nombre'] == nombre_normalizado:\n",
    "                self.inventario.remove(producto)\n",
    "                print(f\"Producto {nombre} eliminado del inventario.\")\n",
    "                return\n",
    "        print(\"El producto no está en el inventario.\")\n",
    "\n",
    "    # 6️⃣ Calcular valor total del inventario\n",
    "    def valor_inventario(self):\n",
    "        valor_total = sum(p['precio'] * p['cantidad'] for p in self.inventario)\n",
    "        print(f\"El valor total del inventario es: {valor_total}\")\n",
    "       \n",
    "\n",
    "    # 7️⃣ Realizar compra\n",
    "    def realizar_compra(self):\n",
    "        carrito = []\n",
    "        coste_total = 0.0\n",
    "        while True:\n",
    "            self.ver_inventario()\n",
    "            seleccion = input(\"Seleccione un producto por su nombre (o 'salir' para finalizar la compra): \").strip().lower()\n",
    "            if seleccion == 'salir':\n",
    "                break\n",
    "            for producto in self.inventario:\n",
    "                if producto['nombre'] == seleccion:\n",
    "                    cantidad = int(input(f\"¿Cuántas unidades de {seleccion} desea comprar? \"))\n",
    "                    if cantidad <= producto['cantidad']:\n",
    "                        carrito.append({'nombre': seleccion, 'precio': producto['precio'], 'cantidad': cantidad})\n",
    "                        coste_producto = producto['precio'] * cantidad\n",
    "                        coste_total += coste_producto\n",
    "                        producto['cantidad'] -= cantidad\n",
    "                        print(f\"{cantidad} unidades de {seleccion} añadidas al carrito. Subtotal: {coste_producto}\")\n",
    "                    else:\n",
    "                        print(f\"No hay suficiente stock. Stock disponible: {producto['cantidad']}\")\n",
    "                    break\n",
    "            else:\n",
    "                print(\"Producto no encontrado en el inventario.\")\n",
    "        self.resultado_compra = (coste_total, carrito)\n",
    "        print(f\"El coste total de tu compra es: {coste_total}\")\n",
    "        print(f\"Tu carrito contiene: {carrito}\")\n",
    "        return coste_total, carrito\n",
    "\n",
    "    # BONUS 1️⃣ Procesar pago\n",
    "    def procesar_pago(self):\n",
    "        if not self.resultado_compra:\n",
    "            print(\"No hay ninguna compra registrada. Ejecuta realizar_compra primero.\")\n",
    "            return\n",
    "        total_a_pagar = self.resultado_compra[0]\n",
    "        try:\n",
    "            print(f\"El coste total de su compra es: {total_a_pagar}\")\n",
    "            monto_pagado = float(input(\"Ingrese la cantidad con la que va a pagar: \"))\n",
    "            if monto_pagado >= total_a_pagar:\n",
    "                cambio = monto_pagado - total_a_pagar\n",
    "                print(f\"Pago exitoso. Su cambio es: {cambio}\")\n",
    "            else:\n",
    "                print(\"Error: Monto insuficiente para cubrir el pago.\")\n",
    "        except ValueError:\n",
    "            print(\"Error: Entrada inválida. Por favor, ingrese un número válido.\")\n",
    "\n",
    "    # BONUS 2️⃣ Agregar cliente\n",
    "    def agregar_cliente(self, nombre, email):\n",
    "        if nombre in self.clientes:\n",
    "            print(\"El cliente ya está registrado.\")\n",
    "        else:\n",
    "            self.clientes[nombre] = {'email': email, 'compras': []}\n",
    "            print(f\"Cliente {nombre} agregado exitosamente.\")\n",
    "\n",
    "    # BONUS 3️⃣ Ver clientes\n",
    "    def ver_clientes(self):\n",
    "        for nombre, info in self.clientes.items():\n",
    "            print(f\"Cliente: {nombre}, Email: {info['email']}, Compras: {info['compras']}\")\n",
    "\n",
    "    # BONUS 4️⃣ Registrar compra\n",
    "    def registrar_compra(self, nombre_cliente):\n",
    "        if not self.resultado_compra:\n",
    "            print(\"No hay ninguna compra registrada. Ejecuta realizar_compra primero.\")\n",
    "            return\n",
    "        if nombre_cliente not in self.clientes:\n",
    "            print(\"El cliente no está registrado.\")\n",
    "            return\n",
    "        carrito = self.resultado_compra[1]\n",
    "        total_compra = sum(item['precio'] * item['cantidad'] for item in carrito)\n",
    "        self.ventas_totales += total_compra\n",
    "        self.clientes[nombre_cliente]['compras'].append(carrito.copy())\n",
    "        self.resultado_compra = None\n",
    "        print(f\"Compra registrada para {nombre_cliente}. Total: {total_compra}\")\n",
    "        print(f\"Ventas totales: {self.ventas_totales}\")\n",
    "\n",
    "    # BONUS 5️⃣ Ver compras por cliente\n",
    "    def ver_compras_cliente(self, nombre_cliente):\n",
    "        if nombre_cliente not in self.clientes:\n",
    "            print(\"El cliente no está registrado.\")\n",
    "            return\n",
    "        historial = self.clientes[nombre_cliente]['compras']\n",
    "        if not historial:\n",
    "            print(f\"El cliente {nombre_cliente} no tiene compras registradas.\")\n",
    "            return\n",
    "        total_general = 0\n",
    "        for i, compra in enumerate(historial, start=1):\n",
    "            print(f\"\\nCompra número {i}:\")\n",
    "            total_compra = 0\n",
    "            for producto in compra:\n",
    "                subtotal = producto['precio'] * producto['cantidad']\n",
    "                total_compra += subtotal\n",
    "                print(f\"  - {producto['nombre']}: {producto['cantidad']} unidades x {producto['precio']} = {subtotal}\")\n",
    "            print(f\"Total compra {i}: {total_compra}\")\n",
    "            total_general += total_compra\n",
    "        print(f\"\\nTotal gastado por {nombre_cliente}: €{total_general}\")\n",
    "\n",
    "    # BONUS 6️⃣ Calcular ventas totales\n",
    "    def calcular_ventas_totales(self):\n",
    "        print(f\"💰 Ventas totales de la tienda: €{self.ventas_totales:.2f}\")\n"
   ]
  },
  {
   "cell_type": "markdown",
   "id": "cd1ebf5f",
   "metadata": {},
   "source": [
    "Ejecución"
   ]
  },
  {
   "cell_type": "code",
   "execution_count": 22,
   "id": "9b7c4981",
   "metadata": {},
   "outputs": [],
   "source": [
    "tienda_Leire=TiendaOnline()\n",
    "tienda_Paco=TiendaOnline()"
   ]
  },
  {
   "cell_type": "code",
   "execution_count": 23,
   "id": "fbd3c9fc",
   "metadata": {},
   "outputs": [
    {
     "name": "stdout",
     "output_type": "stream",
     "text": [
      "Producto: chaqueta, Precio: 20, Cantidad: 200\n",
      "Producto: vestido dior, Precio: 100, Cantidad: 20\n",
      "Producto: bolso chanel, Precio: 200, Cantidad: 10\n",
      "Producto: chocolate, Precio: 10, Cantidad: 300\n",
      "Producto: caramelos, Precio: 5, Cantidad: 600\n"
     ]
    }
   ],
   "source": [
    "tienda_Leire.agregar_producto(\"chaqueta\",20, 200)\n",
    "tienda_Leire.agregar_producto(\"vestido Dior\", 100, 20)\n",
    "tienda_Leire.agregar_producto(\"bolso Chanel\",200,10)\n",
    "tienda_Paco.agregar_producto(\"chocolate\",10,300)\n",
    "tienda_Paco.agregar_producto(\"caramelos\",5,600)\n",
    "tienda_Leire.ver_inventario()\n",
    "tienda_Paco.ver_inventario()"
   ]
  },
  {
   "cell_type": "code",
   "execution_count": 24,
   "id": "b1827982",
   "metadata": {},
   "outputs": [
    {
     "name": "stdout",
     "output_type": "stream",
     "text": [
      "Producto encontrado: vestido Dior, Precio: 100, Cantidad: 20\n"
     ]
    }
   ],
   "source": [
    "tienda_Leire.buscar_producto(\"vestido Dior\")"
   ]
  },
  {
   "cell_type": "code",
   "execution_count": 25,
   "id": "887819d4",
   "metadata": {},
   "outputs": [
    {
     "name": "stdout",
     "output_type": "stream",
     "text": [
      "Stock actualizado para bolso Chanel. Nueva cantidad: 510\n"
     ]
    }
   ],
   "source": [
    "tienda_Leire.actualizar_stock(\"bolso Chanel\",500)"
   ]
  },
  {
   "cell_type": "code",
   "execution_count": 26,
   "id": "cc7f73e2",
   "metadata": {},
   "outputs": [
    {
     "name": "stdout",
     "output_type": "stream",
     "text": [
      "Producto caramelos eliminado del inventario.\n",
      "Producto: chocolate, Precio: 10, Cantidad: 300\n"
     ]
    }
   ],
   "source": [
    "tienda_Paco.eliminar_producto(\"caramelos\")\n",
    "tienda_Paco.ver_inventario()"
   ]
  },
  {
   "cell_type": "code",
   "execution_count": 27,
   "id": "3885a205",
   "metadata": {},
   "outputs": [
    {
     "name": "stdout",
     "output_type": "stream",
     "text": [
      "El valor total del inventario es: 108000\n",
      "El valor total del inventario es: 3000\n"
     ]
    }
   ],
   "source": [
    "tienda_Leire.valor_inventario()\n",
    "tienda_Paco.valor_inventario()"
   ]
  },
  {
   "cell_type": "code",
   "execution_count": 28,
   "id": "5ab97b36",
   "metadata": {},
   "outputs": [
    {
     "name": "stdout",
     "output_type": "stream",
     "text": [
      "Producto: chaqueta, Precio: 20, Cantidad: 200\n",
      "Producto: vestido dior, Precio: 100, Cantidad: 20\n",
      "Producto: bolso chanel, Precio: 200, Cantidad: 510\n",
      "2 unidades de chaqueta añadidas al carrito. Subtotal: 40\n",
      "Producto: chaqueta, Precio: 20, Cantidad: 198\n",
      "Producto: vestido dior, Precio: 100, Cantidad: 20\n",
      "Producto: bolso chanel, Precio: 200, Cantidad: 510\n",
      "1 unidades de vestido dior añadidas al carrito. Subtotal: 100\n",
      "Producto: chaqueta, Precio: 20, Cantidad: 198\n",
      "Producto: vestido dior, Precio: 100, Cantidad: 19\n",
      "Producto: bolso chanel, Precio: 200, Cantidad: 510\n",
      "1 unidades de bolso chanel añadidas al carrito. Subtotal: 200\n",
      "Producto: chaqueta, Precio: 20, Cantidad: 198\n",
      "Producto: vestido dior, Precio: 100, Cantidad: 19\n",
      "Producto: bolso chanel, Precio: 200, Cantidad: 509\n",
      "El coste total de tu compra es: 340.0\n",
      "Tu carrito contiene: [{'nombre': 'chaqueta', 'precio': 20, 'cantidad': 2}, {'nombre': 'vestido dior', 'precio': 100, 'cantidad': 1}, {'nombre': 'bolso chanel', 'precio': 200, 'cantidad': 1}]\n"
     ]
    },
    {
     "data": {
      "text/plain": [
       "(340.0,\n",
       " [{'nombre': 'chaqueta', 'precio': 20, 'cantidad': 2},\n",
       "  {'nombre': 'vestido dior', 'precio': 100, 'cantidad': 1},\n",
       "  {'nombre': 'bolso chanel', 'precio': 200, 'cantidad': 1}])"
      ]
     },
     "execution_count": 28,
     "metadata": {},
     "output_type": "execute_result"
    }
   ],
   "source": [
    "tienda_Leire.realizar_compra()"
   ]
  },
  {
   "cell_type": "code",
   "execution_count": 29,
   "id": "962c934f",
   "metadata": {},
   "outputs": [
    {
     "name": "stdout",
     "output_type": "stream",
     "text": [
      "El coste total de su compra es: 340.0\n",
      "Pago exitoso. Su cambio es: 160.0\n"
     ]
    }
   ],
   "source": [
    "tienda_Leire.procesar_pago()"
   ]
  },
  {
   "cell_type": "code",
   "execution_count": 30,
   "id": "360f0272",
   "metadata": {},
   "outputs": [
    {
     "name": "stdout",
     "output_type": "stream",
     "text": [
      "Cliente Leire agregado exitosamente.\n",
      "Cliente Amaia agregado exitosamente.\n",
      "Cliente Olaya agregado exitosamente.\n",
      "Cliente Ane agregado exitosamente.\n",
      "Cliente: Ana García, Email: ana.garcia@email.com, Compras: []\n",
      "Cliente: Luis Fernández, Email: luis.fernandez@email.com, Compras: []\n",
      "Cliente: María López, Email: maria.lopez@email.com, Compras: []\n",
      "Cliente: Carlos Ruiz, Email: carlos.ruiz@email.com, Compras: []\n",
      "Cliente: Elena Martín, Email: elena.martin@email.com, Compras: []\n",
      "Cliente: Javier Torres, Email: javier.torres@email.com, Compras: []\n",
      "Cliente: Lucía Sánchez, Email: lucia.sanchez@email.com, Compras: []\n",
      "Cliente: Sergio Díaz, Email: sergio.diaz@email.com, Compras: []\n",
      "Cliente: Patricia Ramos, Email: patricia.ramos@email.com, Compras: []\n",
      "Cliente: Diego Navarro, Email: diego.navarro@email.com, Compras: []\n",
      "Cliente: Leire, Email: leire@gmail.com, Compras: []\n",
      "Cliente: Amaia, Email: leire@gmail.com, Compras: []\n",
      "Cliente: Olaya, Email: leire@gmail.com, Compras: []\n",
      "Cliente: Ane, Email: leire@gmail.com, Compras: []\n"
     ]
    }
   ],
   "source": [
    "tienda_Leire.agregar_cliente(\"Leire\", \"leire@gmail.com\")\n",
    "tienda_Leire.agregar_cliente(\"Amaia\", \"leire@gmail.com\")\n",
    "tienda_Leire.agregar_cliente(\"Olaya\", \"leire@gmail.com\")\n",
    "tienda_Leire.agregar_cliente(\"Ane\", \"leire@gmail.com\")\n",
    "tienda_Leire.ver_clientes()"
   ]
  },
  {
   "cell_type": "code",
   "execution_count": 31,
   "id": "967fb3aa",
   "metadata": {},
   "outputs": [
    {
     "name": "stdout",
     "output_type": "stream",
     "text": [
      "Compra registrada para Leire. Total: 340\n",
      "Ventas totales: 340.0\n"
     ]
    }
   ],
   "source": [
    "tienda_Leire.registrar_compra(\"Leire\")"
   ]
  },
  {
   "cell_type": "code",
   "execution_count": 32,
   "id": "44dddd54",
   "metadata": {},
   "outputs": [
    {
     "name": "stdout",
     "output_type": "stream",
     "text": [
      "No hay ninguna compra registrada. Ejecuta realizar_compra primero.\n"
     ]
    }
   ],
   "source": [
    "tienda_Leire.registrar_compra(\"Javier\") #me tendría que decir que tiene que hacer compra pq despues de registrar la anterior el carrito está vacío "
   ]
  },
  {
   "cell_type": "code",
   "execution_count": 33,
   "id": "87781fe4",
   "metadata": {},
   "outputs": [
    {
     "name": "stdout",
     "output_type": "stream",
     "text": [
      "\n",
      "Compra número 1:\n",
      "  - chaqueta: 2 unidades x 20 = 40\n",
      "  - vestido dior: 1 unidades x 100 = 100\n",
      "  - bolso chanel: 1 unidades x 200 = 200\n",
      "Total compra 1: 340\n",
      "\n",
      "Total gastado por Leire: €340\n"
     ]
    }
   ],
   "source": [
    "tienda_Leire.ver_compras_cliente(\"Leire\")"
   ]
  },
  {
   "cell_type": "code",
   "execution_count": 34,
   "id": "33950fbc",
   "metadata": {},
   "outputs": [
    {
     "name": "stdout",
     "output_type": "stream",
     "text": [
      "💰 Ventas totales de la tienda: €340.00\n"
     ]
    }
   ],
   "source": [
    "tienda_Leire.calcular_ventas_totales()"
   ]
  }
 ],
 "metadata": {
  "kernelspec": {
   "display_name": "py13",
   "language": "python",
   "name": "python3"
  },
  "language_info": {
   "codemirror_mode": {
    "name": "ipython",
    "version": 3
   },
   "file_extension": ".py",
   "mimetype": "text/x-python",
   "name": "python",
   "nbconvert_exporter": "python",
   "pygments_lexer": "ipython3",
   "version": "3.13.7"
  }
 },
 "nbformat": 4,
 "nbformat_minor": 5
}
